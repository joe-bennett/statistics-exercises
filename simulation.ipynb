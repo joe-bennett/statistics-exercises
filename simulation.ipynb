{
 "cells": [
  {
   "cell_type": "markdown",
   "metadata": {},
   "source": [
    "1. How likely is it that you roll doubles when rolling two dice?"
   ]
  },
  {
   "cell_type": "code",
   "execution_count": 2,
   "metadata": {},
   "outputs": [],
   "source": [
    "%matplotlib inline\n",
    "import numpy as np\n",
    "import pandas as pd\n",
    "\n",
    "np.random.seed(1016)\n"
   ]
  },
  {
   "cell_type": "code",
   "execution_count": 21,
   "metadata": {},
   "outputs": [
    {
     "data": {
      "text/plain": [
       "0.16511"
      ]
     },
     "execution_count": 21,
     "metadata": {},
     "output_type": "execute_result"
    }
   ],
   "source": [
    "\n",
    "\n",
    "\n",
    "outcomes = [1,2,3,4,5,6]\n",
    "\n",
    "simulations=100_000\n",
    "trials= 2\n",
    "\n",
    "rolls=np.random.choice(outcomes, (simulations, trials))\n",
    "rolls=pd.DataFrame(rolls)\n",
    "\n",
    "doubles= (rolls[0] == rolls[1])\n",
    "\n",
    "doubles.mean()\n",
    "\n"
   ]
  },
  {
   "cell_type": "markdown",
   "metadata": {},
   "source": [
    "2. If you flip 8 coins, what is the probability of getting exactly 3 heads? "
   ]
  },
  {
   "cell_type": "code",
   "execution_count": 24,
   "metadata": {},
   "outputs": [
    {
     "data": {
      "text/plain": [
       "0.21967"
      ]
     },
     "execution_count": 24,
     "metadata": {},
     "output_type": "execute_result"
    }
   ],
   "source": [
    "flip_outcomes= ['h','t']\n",
    "\n",
    "simulations=100_000\n",
    "trials2=8\n",
    "\n",
    "flips2=np.random.choice(flip_outcomes, (simulations,trials2))\n",
    "\n",
    "heads_3= ((flips2=='h').sum(axis=1))==3\n",
    "\n",
    "heads_3.mean()"
   ]
  },
  {
   "cell_type": "markdown",
   "metadata": {},
   "source": [
    "What is the probability of getting more than 3 heads?"
   ]
  },
  {
   "cell_type": "code",
   "execution_count": 25,
   "metadata": {},
   "outputs": [
    {
     "data": {
      "text/plain": [
       "0.63656"
      ]
     },
     "execution_count": 25,
     "metadata": {},
     "output_type": "execute_result"
    }
   ],
   "source": [
    "flip_outcomes= ['h','t']\n",
    "\n",
    "simulations=100_000\n",
    "trials2=8\n",
    "\n",
    "flips2=np.random.choice(flip_outcomes, (simulations,trials2))\n",
    "\n",
    "heads_3= ((flips2=='h').sum(axis=1))>3\n",
    "\n",
    "heads_3.mean()"
   ]
  },
  {
   "cell_type": "markdown",
   "metadata": {},
   "source": [
    "3. There are approximitely 3 web development cohorts for every 1 data science cohort at Codeup. Assuming that Codeup randomly selects an alumni to put on a billboard, what are the odds that the two billboards I drive past both have data science students on them?"
   ]
  },
  {
   "cell_type": "code",
   "execution_count": 40,
   "metadata": {},
   "outputs": [
    {
     "data": {
      "text/plain": [
       "0.0622"
      ]
     },
     "execution_count": 40,
     "metadata": {},
     "output_type": "execute_result"
    }
   ],
   "source": [
    "cohort_outcomes=['wd','wd','wd','ds']\n",
    "\n",
    "simulations= 100_000\n",
    "\n",
    "trials_bboards=2\n",
    "\n",
    "two_bilboards= np.random.choice(cohort_outcomes, (simulations,trials_bboards))\n",
    "\n",
    "two_bilboards = pd.DataFrame(two_bilboards)\n",
    "\n",
    "two_bilboards_ds= (two_bilboards[0]=='ds') & (two_bilboards[1]=='ds')\n",
    "\n",
    "two_bilboards_ds.mean()\n"
   ]
  },
  {
   "cell_type": "markdown",
   "metadata": {},
   "source": [
    "4. Codeup students buy, on average, 3 poptart packages with a standard deviation of 1.5 a day from the snack vending machine. If on monday the machine is restocked with 17 poptart packages, how likely is it that I will be able to buy some poptarts on Friday afternoon? (Remember, if you have mean and standard deviation, use the np.random.normal) You'll need to make a judgement call on how to handle some of your values"
   ]
  },
  {
   "cell_type": "code",
   "execution_count": 56,
   "metadata": {},
   "outputs": [
    {
     "data": {
      "text/plain": [
       "0.62575"
      ]
     },
     "execution_count": 56,
     "metadata": {},
     "output_type": "execute_result"
    }
   ],
   "source": [
    "simulations= 100_000\n",
    "trials_days=5\n",
    "ptart_pkg= np.random.normal(3,1.5,simulations)\n",
    "ptart_wk=ptart_pkg.reshape(20_000,5)\n",
    "ptart_week_total=ptart_wk.sum(axis=1)\n",
    "(ptart_week_total <= 16).mean()\n",
    "\n",
    "# will_get_ptart=ptart_week_total <=16\n",
    "# prob_of_fri_ptart= (len(will_get_ptart)) /(len(ptart_week_total))\n",
    "# prob_of_fri_ptart"
   ]
  },
  {
   "cell_type": "markdown",
   "metadata": {},
   "source": [
    "5. Compare Heights\n",
    "\n",
    "    Men have an average height of 178 cm and standard deviation of 8cm.\n",
    "\n",
    "    Women have a mean of 170, sd = 6cm\n",
    "\n",
    "    Since you have means and standard deviations, you can use np.random.normal to generate observations\n",
    "\n",
    "    If a man and woman are chosen at random, what is the likelihood the woman is taller than the man?\n",
    "\n",
    "\n"
   ]
  },
  {
   "cell_type": "code",
   "execution_count": 58,
   "metadata": {},
   "outputs": [
    {
     "data": {
      "text/plain": [
       "0.21441"
      ]
     },
     "execution_count": 58,
     "metadata": {},
     "output_type": "execute_result"
    }
   ],
   "source": [
    "men_ht= np.random.normal(178,8,100_000)\n",
    "women_ht= np.random.normal(170,6,100_000)\n",
    "\n",
    "taller_woman= women_ht>men_ht\n",
    "taller_woman.mean()\n"
   ]
  },
  {
   "cell_type": "markdown",
   "metadata": {},
   "source": [
    "6. When installing anaconda on a student's computer, there's a 1 in 250 chance that the download is corrupted and the installation fails. \n",
    "   What are the odds that after having 50 students download anaconda, no one has an installation issue? 100 students?"
   ]
  },
  {
   "cell_type": "code",
   "execution_count": 105,
   "metadata": {},
   "outputs": [
    {
     "data": {
      "text/plain": [
       "0.81817"
      ]
     },
     "execution_count": 105,
     "metadata": {},
     "output_type": "execute_result"
    }
   ],
   "source": [
    "\n",
    "\n",
    "conda_probability=np.random.choice(['success','fail'],(100_000,50), p=[(249/250),(1/250)])\n",
    "\n",
    "df=pd.DataFrame(conda_probability)\n",
    "worked= df=='success'\n",
    "fifty_total=worked.sum(axis=1)\n",
    "final_answer=fifty_total>49\n",
    "\n",
    "final_answer.mean()\n",
    "\n"
   ]
  },
  {
   "cell_type": "markdown",
   "metadata": {},
   "source": [
    "for 100 students?"
   ]
  },
  {
   "cell_type": "code",
   "execution_count": 106,
   "metadata": {},
   "outputs": [
    {
     "data": {
      "text/plain": [
       "0.66902"
      ]
     },
     "execution_count": 106,
     "metadata": {},
     "output_type": "execute_result"
    }
   ],
   "source": [
    "conda_probability=np.random.choice(['success','fail'],(100_000,100), p=[(249/250),(1/250)])\n",
    "\n",
    "df=pd.DataFrame(conda_probability)\n",
    "worked= df=='success'\n",
    "fifty_total=worked.sum(axis=1)\n",
    "final_answer=fifty_total>99\n",
    "\n",
    "final_answer.mean()\n"
   ]
  },
  {
   "cell_type": "markdown",
   "metadata": {},
   "source": [
    "What is the probability that we observe an installation issue within the first 150 students that download anaconda?"
   ]
  },
  {
   "cell_type": "code",
   "execution_count": 107,
   "metadata": {},
   "outputs": [
    {
     "data": {
      "text/plain": [
       "0.45181000000000004"
      ]
     },
     "execution_count": 107,
     "metadata": {},
     "output_type": "execute_result"
    }
   ],
   "source": [
    "conda_probability=np.random.choice(['success','fail'],(100_000,150), p=[(249/250),(1/250)])\n",
    "\n",
    "df=pd.DataFrame(conda_probability)\n",
    "worked= df=='success'\n",
    "fifty_total=worked.sum(axis=1)\n",
    "final_answer=fifty_total>149\n",
    "\n",
    "-abs((final_answer.mean()))+1"
   ]
  },
  {
   "cell_type": "markdown",
   "metadata": {},
   "source": [
    "How likely is it that 450 students all download anaconda without an issue?"
   ]
  },
  {
   "cell_type": "code",
   "execution_count": 4,
   "metadata": {},
   "outputs": [
    {
     "data": {
      "text/plain": [
       "0.1622"
      ]
     },
     "execution_count": 4,
     "metadata": {},
     "output_type": "execute_result"
    }
   ],
   "source": [
    "conda_probability=np.random.choice(['success','fail'],(10_000,450), p=[(249/250),(1/250)])\n",
    "\n",
    "df=pd.DataFrame(conda_probability)\n",
    "worked= df=='success'\n",
    "fifty_total=worked.sum(axis=1)\n",
    "final_answer=fifty_total>449\n",
    "\n",
    "final_answer.mean()\n"
   ]
  },
  {
   "cell_type": "markdown",
   "metadata": {},
   "source": [
    "7.There's a 70% chance on any given day that there will be at least one food truck at Travis Park. However, you haven't seen a food truck there in 3 days. How unlikely is this?"
   ]
  },
  {
   "cell_type": "code",
   "execution_count": 10,
   "metadata": {},
   "outputs": [
    {
     "data": {
      "text/plain": [
       "0.02668"
      ]
     },
     "execution_count": 10,
     "metadata": {},
     "output_type": "execute_result"
    }
   ],
   "source": [
    "ftruck_present=np.random.choice(['present','not_present'],(100_000,3),p=[(.7),(.3)])\n",
    "truck_there=ftruck_present=='present'\n",
    "odds=truck_there.sum(axis=1)\n",
    "final_answer=odds==0\n",
    "final_answer.mean()"
   ]
  },
  {
   "cell_type": "markdown",
   "metadata": {},
   "source": [
    "How likely is it that a food truck will show up sometime this week?"
   ]
  },
  {
   "cell_type": "code",
   "execution_count": 11,
   "metadata": {},
   "outputs": [
    {
     "data": {
      "text/plain": [
       "0.00258"
      ]
     },
     "execution_count": 11,
     "metadata": {},
     "output_type": "execute_result"
    }
   ],
   "source": [
    "ftruck_present=np.random.choice(['present','not_present'],(100_000,5),p=[(.7),(.3)])\n",
    "truck_there=ftruck_present=='present'\n",
    "odds=truck_there.sum(axis=1)\n",
    "final_answer=odds==0\n",
    "final_answer.mean()"
   ]
  },
  {
   "cell_type": "markdown",
   "metadata": {},
   "source": [
    "8.If 23 people are in the same room, what are the odds that two of them share a birthday? What if it's 20 people? 40?"
   ]
  },
  {
   "cell_type": "code",
   "execution_count": 27,
   "metadata": {},
   "outputs": [
    {
     "data": {
      "text/plain": [
       "0.507"
      ]
     },
     "execution_count": 27,
     "metadata": {},
     "output_type": "execute_result"
    }
   ],
   "source": [
    "bday= np.random.choice(range(1,365),size=(10_000,23))\n",
    "df=pd.DataFrame(bday)\n",
    "same_bday= df.nunique(axis=1)\n",
    "final_answ=same_bday<23\n",
    "final_answ.mean()\n",
    "\n",
    "# same_bday.mean()"
   ]
  },
  {
   "cell_type": "code",
   "execution_count": 3,
   "metadata": {},
   "outputs": [
    {
     "data": {
      "text/plain": [
       "0.8925"
      ]
     },
     "execution_count": 3,
     "metadata": {},
     "output_type": "execute_result"
    }
   ],
   "source": [
    "#40 people\n",
    "\n",
    "bday= np.random.choice(range(1,365),size=(10_000,40))\n",
    "df=pd.DataFrame(bday)\n",
    "same_bday= df.nunique(axis=1)\n",
    "final_answ=same_bday<40\n",
    "final_answ.mean()\n"
   ]
  },
  {
   "cell_type": "code",
   "execution_count": 4,
   "metadata": {},
   "outputs": [
    {
     "data": {
      "text/plain": [
       "0.4015"
      ]
     },
     "execution_count": 4,
     "metadata": {},
     "output_type": "execute_result"
    }
   ],
   "source": [
    "#20 people\n",
    "\n",
    "\n",
    "bday= np.random.choice(range(1,365),size=(10_000,20))\n",
    "df=pd.DataFrame(bday)\n",
    "same_bday= df.nunique(axis=1)\n",
    "final_answ=same_bday<20\n",
    "final_answ.mean()\n"
   ]
  },
  {
   "cell_type": "code",
   "execution_count": null,
   "metadata": {},
   "outputs": [],
   "source": []
  }
 ],
 "metadata": {
  "kernelspec": {
   "display_name": "Python 3.9.12 ('base')",
   "language": "python",
   "name": "python3"
  },
  "language_info": {
   "codemirror_mode": {
    "name": "ipython",
    "version": 3
   },
   "file_extension": ".py",
   "mimetype": "text/x-python",
   "name": "python",
   "nbconvert_exporter": "python",
   "pygments_lexer": "ipython3",
   "version": "3.9.12"
  },
  "orig_nbformat": 4,
  "vscode": {
   "interpreter": {
    "hash": "38cca0c38332a56087b24af0bc80247f4fced29cb4f7f437d91dc159adec9c4e"
   }
  }
 },
 "nbformat": 4,
 "nbformat_minor": 2
}
