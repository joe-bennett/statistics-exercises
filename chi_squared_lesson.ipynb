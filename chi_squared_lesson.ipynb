{
 "cells": [
  {
   "cell_type": "markdown",
   "id": "d485ecd3",
   "metadata": {},
   "source": [
    "# Chi$^2$ ($\\chi^2$) Test for Independence\n",
    "\n",
    "aka Pearson's Chi$^2$ test. Pronounced as 'Ki' as in kite.\n",
    "\n",
    "\n",
    "https://docs.google.com/presentation/d/13V7cMcgbM6bIQL2fbMtONre15iiNKpxnX7ECiWTxrVI/edit?usp=sharing"
   ]
  },
  {
   "cell_type": "markdown",
   "id": "a4cdb874",
   "metadata": {},
   "source": [
    "Lets us test the hypothesis that one group is independent of another\n",
    "- $H_0$ is always that there is no association between the groups (they are independent)\n",
    "- $H_a$ is that there is a association (they are not independent) between the groups\n",
    "\n",
    "\n",
    "The null hypothesis assumes that the observed frequencies for a categorical variable match the expected frequencies for the categorical variable"
   ]
  },
  {
   "cell_type": "markdown",
   "id": "8dd2e081",
   "metadata": {},
   "source": [
    "## The Quick Way To Run a Chi$^2$ Test"
   ]
  },
  {
   "cell_type": "markdown",
   "id": "48ad0a45",
   "metadata": {},
   "source": [
    "1. form hypothesis\n",
    "2. make contigency table\n",
    "3. use stats.chi2_contingency"
   ]
  },
  {
   "cell_type": "markdown",
   "id": "372767cc",
   "metadata": {},
   "source": [
    "## Example 1 - Tips Data"
   ]
  },
  {
   "cell_type": "code",
   "execution_count": 1,
   "id": "4bb5d3de",
   "metadata": {},
   "outputs": [],
   "source": [
    "import pandas as pd\n",
    "import numpy as np\n",
    "\n",
    "from pydataset import data\n",
    "from scipy import stats"
   ]
  },
  {
   "cell_type": "code",
   "execution_count": null,
   "id": "2322650c",
   "metadata": {},
   "outputs": [],
   "source": [
    "#load tips dataset\n"
   ]
  },
  {
   "cell_type": "code",
   "execution_count": null,
   "id": "c925eeaa",
   "metadata": {},
   "outputs": [],
   "source": [
    "#check out the dataset\n"
   ]
  },
  {
   "cell_type": "markdown",
   "id": "b00c930b",
   "metadata": {},
   "source": [
    "## Is smoking independent of time of day?"
   ]
  },
  {
   "cell_type": "markdown",
   "id": "7f7088a8",
   "metadata": {},
   "source": [
    "### 1. Form hypothesis"
   ]
  },
  {
   "cell_type": "markdown",
   "id": "7b74bcf3",
   "metadata": {},
   "source": [
    "- $H_o$: There is no association between the smoker and time of the day (independence)\n",
    "- $H_a$: There is that there is a association between smoker and time of day"
   ]
  },
  {
   "cell_type": "markdown",
   "id": "7b529d5a",
   "metadata": {},
   "source": [
    "### 2. Make contigency table"
   ]
  },
  {
   "cell_type": "code",
   "execution_count": null,
   "id": "36e9c590",
   "metadata": {},
   "outputs": [],
   "source": [
    "#set our alpha\n"
   ]
  },
  {
   "cell_type": "code",
   "execution_count": null,
   "id": "2c72c32a",
   "metadata": {},
   "outputs": [],
   "source": [
    "#look at smoker data\n"
   ]
  },
  {
   "cell_type": "code",
   "execution_count": null,
   "id": "f2d582a8",
   "metadata": {},
   "outputs": [],
   "source": [
    "#look at time data\n"
   ]
  },
  {
   "cell_type": "code",
   "execution_count": null,
   "id": "3da796d3",
   "metadata": {},
   "outputs": [],
   "source": [
    "#make 'contingency' table using pandas crosstab\n"
   ]
  },
  {
   "cell_type": "markdown",
   "id": "8a2a042f",
   "metadata": {},
   "source": [
    "### 3. Use stats.chi2_contingency"
   ]
  },
  {
   "cell_type": "code",
   "execution_count": null,
   "id": "45d82512",
   "metadata": {},
   "outputs": [],
   "source": [
    "#use stats chi2_contingency\n"
   ]
  },
  {
   "cell_type": "code",
   "execution_count": null,
   "id": "2545f98f",
   "metadata": {},
   "outputs": [],
   "source": [
    "#chi2_contingency prints out 4 values - chi2, p-value, degrees of freedom, expected values\n",
    "chi2, p, degf, expected"
   ]
  },
  {
   "cell_type": "code",
   "execution_count": null,
   "id": "fdec0394",
   "metadata": {},
   "outputs": [],
   "source": [
    "#output values\n",
    "print('Observed')\n",
    "print(observed.values)\n",
    "print('\\nExpected')\n",
    "print(expected.astype(int))\n",
    "print('\\n----')\n",
    "print(f'chi^2 = {chi2:.4f}')\n",
    "print(f'p     = {p:.4f}')"
   ]
  },
  {
   "cell_type": "code",
   "execution_count": null,
   "id": "fef493e5",
   "metadata": {},
   "outputs": [],
   "source": [
    "if p < alpha:\n",
    "    print('We reject the null')\n",
    "else:\n",
    "    print(\"we fail to reject the null\")"
   ]
  },
  {
   "cell_type": "markdown",
   "id": "89e7ef83",
   "metadata": {},
   "source": [
    "> a low chi^2 value typically leads to a high p-value"
   ]
  },
  {
   "cell_type": "markdown",
   "id": "e2038dbf",
   "metadata": {},
   "source": [
    "## Example 2 - Attrition Data"
   ]
  },
  {
   "cell_type": "code",
   "execution_count": 2,
   "id": "73b6febd",
   "metadata": {},
   "outputs": [],
   "source": [
    "#get data\n",
    "df = pd.read_csv(\"https://gist.githubusercontent.com/ryanorsinger/6ba2dd985c9aa92f5598fc0f7c359f6a/raw/b20a508cee46e6ac69eb1e228b167d6f42d665d8/attrition.csv\")"
   ]
  },
  {
   "cell_type": "code",
   "execution_count": 4,
   "id": "fbc7d6c7",
   "metadata": {},
   "outputs": [
    {
     "data": {
      "text/html": [
       "<div>\n",
       "<style scoped>\n",
       "    .dataframe tbody tr th:only-of-type {\n",
       "        vertical-align: middle;\n",
       "    }\n",
       "\n",
       "    .dataframe tbody tr th {\n",
       "        vertical-align: top;\n",
       "    }\n",
       "\n",
       "    .dataframe thead th {\n",
       "        text-align: right;\n",
       "    }\n",
       "</style>\n",
       "<table border=\"1\" class=\"dataframe\">\n",
       "  <thead>\n",
       "    <tr style=\"text-align: right;\">\n",
       "      <th></th>\n",
       "      <th>Age</th>\n",
       "      <th>Attrition</th>\n",
       "      <th>BusinessTravel</th>\n",
       "      <th>DailyRate</th>\n",
       "      <th>Department</th>\n",
       "      <th>DistanceFromHome</th>\n",
       "      <th>Education</th>\n",
       "      <th>EducationField</th>\n",
       "      <th>EmployeeCount</th>\n",
       "      <th>EmployeeNumber</th>\n",
       "      <th>...</th>\n",
       "      <th>RelationshipSatisfaction</th>\n",
       "      <th>StandardHours</th>\n",
       "      <th>StockOptionLevel</th>\n",
       "      <th>TotalWorkingYears</th>\n",
       "      <th>TrainingTimesLastYear</th>\n",
       "      <th>WorkLifeBalance</th>\n",
       "      <th>YearsAtCompany</th>\n",
       "      <th>YearsInCurrentRole</th>\n",
       "      <th>YearsSinceLastPromotion</th>\n",
       "      <th>YearsWithCurrManager</th>\n",
       "    </tr>\n",
       "  </thead>\n",
       "  <tbody>\n",
       "    <tr>\n",
       "      <th>0</th>\n",
       "      <td>41</td>\n",
       "      <td>Yes</td>\n",
       "      <td>Travel_Rarely</td>\n",
       "      <td>1102</td>\n",
       "      <td>Sales</td>\n",
       "      <td>1</td>\n",
       "      <td>2</td>\n",
       "      <td>Life Sciences</td>\n",
       "      <td>1</td>\n",
       "      <td>1</td>\n",
       "      <td>...</td>\n",
       "      <td>1</td>\n",
       "      <td>80</td>\n",
       "      <td>0</td>\n",
       "      <td>8</td>\n",
       "      <td>0</td>\n",
       "      <td>1</td>\n",
       "      <td>6</td>\n",
       "      <td>4</td>\n",
       "      <td>0</td>\n",
       "      <td>5</td>\n",
       "    </tr>\n",
       "    <tr>\n",
       "      <th>1</th>\n",
       "      <td>49</td>\n",
       "      <td>No</td>\n",
       "      <td>Travel_Frequently</td>\n",
       "      <td>279</td>\n",
       "      <td>Research &amp; Development</td>\n",
       "      <td>8</td>\n",
       "      <td>1</td>\n",
       "      <td>Life Sciences</td>\n",
       "      <td>1</td>\n",
       "      <td>2</td>\n",
       "      <td>...</td>\n",
       "      <td>4</td>\n",
       "      <td>80</td>\n",
       "      <td>1</td>\n",
       "      <td>10</td>\n",
       "      <td>3</td>\n",
       "      <td>3</td>\n",
       "      <td>10</td>\n",
       "      <td>7</td>\n",
       "      <td>1</td>\n",
       "      <td>7</td>\n",
       "    </tr>\n",
       "    <tr>\n",
       "      <th>2</th>\n",
       "      <td>37</td>\n",
       "      <td>Yes</td>\n",
       "      <td>Travel_Rarely</td>\n",
       "      <td>1373</td>\n",
       "      <td>Research &amp; Development</td>\n",
       "      <td>2</td>\n",
       "      <td>2</td>\n",
       "      <td>Other</td>\n",
       "      <td>1</td>\n",
       "      <td>4</td>\n",
       "      <td>...</td>\n",
       "      <td>2</td>\n",
       "      <td>80</td>\n",
       "      <td>0</td>\n",
       "      <td>7</td>\n",
       "      <td>3</td>\n",
       "      <td>3</td>\n",
       "      <td>0</td>\n",
       "      <td>0</td>\n",
       "      <td>0</td>\n",
       "      <td>0</td>\n",
       "    </tr>\n",
       "    <tr>\n",
       "      <th>3</th>\n",
       "      <td>33</td>\n",
       "      <td>No</td>\n",
       "      <td>Travel_Frequently</td>\n",
       "      <td>1392</td>\n",
       "      <td>Research &amp; Development</td>\n",
       "      <td>3</td>\n",
       "      <td>4</td>\n",
       "      <td>Life Sciences</td>\n",
       "      <td>1</td>\n",
       "      <td>5</td>\n",
       "      <td>...</td>\n",
       "      <td>3</td>\n",
       "      <td>80</td>\n",
       "      <td>0</td>\n",
       "      <td>8</td>\n",
       "      <td>3</td>\n",
       "      <td>3</td>\n",
       "      <td>8</td>\n",
       "      <td>7</td>\n",
       "      <td>3</td>\n",
       "      <td>0</td>\n",
       "    </tr>\n",
       "    <tr>\n",
       "      <th>4</th>\n",
       "      <td>27</td>\n",
       "      <td>No</td>\n",
       "      <td>Travel_Rarely</td>\n",
       "      <td>591</td>\n",
       "      <td>Research &amp; Development</td>\n",
       "      <td>2</td>\n",
       "      <td>1</td>\n",
       "      <td>Medical</td>\n",
       "      <td>1</td>\n",
       "      <td>7</td>\n",
       "      <td>...</td>\n",
       "      <td>4</td>\n",
       "      <td>80</td>\n",
       "      <td>1</td>\n",
       "      <td>6</td>\n",
       "      <td>3</td>\n",
       "      <td>3</td>\n",
       "      <td>2</td>\n",
       "      <td>2</td>\n",
       "      <td>2</td>\n",
       "      <td>2</td>\n",
       "    </tr>\n",
       "  </tbody>\n",
       "</table>\n",
       "<p>5 rows × 35 columns</p>\n",
       "</div>"
      ],
      "text/plain": [
       "   Age Attrition     BusinessTravel  DailyRate              Department  \\\n",
       "0   41       Yes      Travel_Rarely       1102                   Sales   \n",
       "1   49        No  Travel_Frequently        279  Research & Development   \n",
       "2   37       Yes      Travel_Rarely       1373  Research & Development   \n",
       "3   33        No  Travel_Frequently       1392  Research & Development   \n",
       "4   27        No      Travel_Rarely        591  Research & Development   \n",
       "\n",
       "   DistanceFromHome  Education EducationField  EmployeeCount  EmployeeNumber  \\\n",
       "0                 1          2  Life Sciences              1               1   \n",
       "1                 8          1  Life Sciences              1               2   \n",
       "2                 2          2          Other              1               4   \n",
       "3                 3          4  Life Sciences              1               5   \n",
       "4                 2          1        Medical              1               7   \n",
       "\n",
       "   ...  RelationshipSatisfaction StandardHours  StockOptionLevel  \\\n",
       "0  ...                         1            80                 0   \n",
       "1  ...                         4            80                 1   \n",
       "2  ...                         2            80                 0   \n",
       "3  ...                         3            80                 0   \n",
       "4  ...                         4            80                 1   \n",
       "\n",
       "   TotalWorkingYears  TrainingTimesLastYear WorkLifeBalance  YearsAtCompany  \\\n",
       "0                  8                      0               1               6   \n",
       "1                 10                      3               3              10   \n",
       "2                  7                      3               3               0   \n",
       "3                  8                      3               3               8   \n",
       "4                  6                      3               3               2   \n",
       "\n",
       "  YearsInCurrentRole  YearsSinceLastPromotion  YearsWithCurrManager  \n",
       "0                  4                        0                     5  \n",
       "1                  7                        1                     7  \n",
       "2                  0                        0                     0  \n",
       "3                  7                        3                     0  \n",
       "4                  2                        2                     2  \n",
       "\n",
       "[5 rows x 35 columns]"
      ]
     },
     "execution_count": 4,
     "metadata": {},
     "output_type": "execute_result"
    }
   ],
   "source": [
    "#always look at your data!!\n",
    "df.head()"
   ]
  },
  {
   "cell_type": "markdown",
   "id": "47a14991",
   "metadata": {},
   "source": [
    "### What could be categorical data???"
   ]
  },
  {
   "cell_type": "markdown",
   "id": "829ce957",
   "metadata": {},
   "source": [
    "Let's guess by looking at how many different values each columm has"
   ]
  },
  {
   "cell_type": "code",
   "execution_count": null,
   "id": "316d46c3",
   "metadata": {},
   "outputs": [],
   "source": [
    "#.unique counts the number of unique values in each column\n"
   ]
  },
  {
   "cell_type": "markdown",
   "id": "4e68e98e",
   "metadata": {},
   "source": [
    "## Ex. Is Attrition independent from Business Travel amount?"
   ]
  },
  {
   "cell_type": "markdown",
   "id": "0cc12efb",
   "metadata": {},
   "source": [
    "### 1. Form hypothesis"
   ]
  },
  {
   "cell_type": "markdown",
   "id": "38816710",
   "metadata": {},
   "source": [
    "$H_0$: Attrition and Business travel have no association (They are independent)\n",
    "\n",
    "$H_a$: Attrition and Business travel are associated (they are dependent)"
   ]
  },
  {
   "cell_type": "markdown",
   "id": "fa2c56fb",
   "metadata": {},
   "source": [
    "### 2. Make contigency table"
   ]
  },
  {
   "cell_type": "markdown",
   "id": "fa4de54a",
   "metadata": {},
   "source": [
    "Let's scope out our columns and see what categories we have"
   ]
  },
  {
   "cell_type": "code",
   "execution_count": null,
   "id": "323821f7",
   "metadata": {},
   "outputs": [],
   "source": [
    "#get unique values and counts from Attrition\n"
   ]
  },
  {
   "cell_type": "code",
   "execution_count": null,
   "id": "41040961",
   "metadata": {},
   "outputs": [],
   "source": [
    "#get unique values and counts from BusineesTravel\n"
   ]
  },
  {
   "cell_type": "code",
   "execution_count": null,
   "id": "7f7a0e7f",
   "metadata": {},
   "outputs": [],
   "source": [
    "#make contigency table\n"
   ]
  },
  {
   "cell_type": "markdown",
   "id": "9d8f0595",
   "metadata": {},
   "source": [
    "### 3. Use stats.chi2_contingency"
   ]
  },
  {
   "cell_type": "code",
   "execution_count": null,
   "id": "6b192c71",
   "metadata": {},
   "outputs": [],
   "source": [
    "#calculate chi2 values\n",
    "chi2, p, degf, expected"
   ]
  },
  {
   "cell_type": "code",
   "execution_count": null,
   "id": "7c47f18c",
   "metadata": {},
   "outputs": [],
   "source": [
    "print('Observed')\n",
    "print(observed.values)\n",
    "print('\\nExpected')\n",
    "print(expected.astype(int))\n",
    "print('\\n----')\n",
    "print(f'chi^2 = {chi2:.4f}')\n",
    "print(f'p     = {p:.4f}')"
   ]
  },
  {
   "cell_type": "markdown",
   "id": "1c285480",
   "metadata": {},
   "source": [
    "> typically a high chi^2 value leads to a low p-value, depends on degrees of freedom"
   ]
  },
  {
   "cell_type": "code",
   "execution_count": null,
   "id": "3f382ee3",
   "metadata": {},
   "outputs": [],
   "source": [
    "if p < alpha:\n",
    "    print('We reject the null')\n",
    "else:\n",
    "    print(\"we fail to reject the null\")"
   ]
  },
  {
   "cell_type": "markdown",
   "id": "03881fd5",
   "metadata": {},
   "source": [
    "## Mini Exercise:\n",
    "### Is Attrition independent from Department?"
   ]
  },
  {
   "cell_type": "markdown",
   "id": "92713c1b",
   "metadata": {},
   "source": [
    "### 1. Form hypothesis"
   ]
  },
  {
   "cell_type": "markdown",
   "id": "917f6cfa",
   "metadata": {},
   "source": [
    "- $H_0$: There is no association between Attrition and Department (They are independent)\n",
    "- $H_a$: There is an association between Attrition and Department (They are not independent)"
   ]
  },
  {
   "cell_type": "markdown",
   "id": "c2cf1f50",
   "metadata": {},
   "source": [
    "### 2. Make contigency table"
   ]
  },
  {
   "cell_type": "code",
   "execution_count": 6,
   "id": "94da2fd1",
   "metadata": {},
   "outputs": [
    {
     "data": {
      "text/plain": [
       "Research & Development    961\n",
       "Sales                     446\n",
       "Human Resources            63\n",
       "Name: Department, dtype: int64"
      ]
     },
     "execution_count": 6,
     "metadata": {},
     "output_type": "execute_result"
    }
   ],
   "source": [
    "# how many categories we have in 'Department' column? (hint: value_counts())\n",
    "\n",
    "df.Department.value_counts()"
   ]
  },
  {
   "cell_type": "code",
   "execution_count": 15,
   "id": "c751a0d3",
   "metadata": {},
   "outputs": [
    {
     "data": {
      "text/html": [
       "<div>\n",
       "<style scoped>\n",
       "    .dataframe tbody tr th:only-of-type {\n",
       "        vertical-align: middle;\n",
       "    }\n",
       "\n",
       "    .dataframe tbody tr th {\n",
       "        vertical-align: top;\n",
       "    }\n",
       "\n",
       "    .dataframe thead th {\n",
       "        text-align: right;\n",
       "    }\n",
       "</style>\n",
       "<table border=\"1\" class=\"dataframe\">\n",
       "  <thead>\n",
       "    <tr style=\"text-align: right;\">\n",
       "      <th>Attrition</th>\n",
       "      <th>No</th>\n",
       "      <th>Yes</th>\n",
       "    </tr>\n",
       "    <tr>\n",
       "      <th>Department</th>\n",
       "      <th></th>\n",
       "      <th></th>\n",
       "    </tr>\n",
       "  </thead>\n",
       "  <tbody>\n",
       "    <tr>\n",
       "      <th>Human Resources</th>\n",
       "      <td>51</td>\n",
       "      <td>12</td>\n",
       "    </tr>\n",
       "    <tr>\n",
       "      <th>Research &amp; Development</th>\n",
       "      <td>828</td>\n",
       "      <td>133</td>\n",
       "    </tr>\n",
       "    <tr>\n",
       "      <th>Sales</th>\n",
       "      <td>354</td>\n",
       "      <td>92</td>\n",
       "    </tr>\n",
       "  </tbody>\n",
       "</table>\n",
       "</div>"
      ],
      "text/plain": [
       "Attrition                No  Yes\n",
       "Department                      \n",
       "Human Resources          51   12\n",
       "Research & Development  828  133\n",
       "Sales                   354   92"
      ]
     },
     "execution_count": 15,
     "metadata": {},
     "output_type": "execute_result"
    }
   ],
   "source": [
    "# crosstab for observed values between Attrition and Depts\n",
    "observed=pd.crosstab(df.Department,df.Attrition)\n",
    "observed"
   ]
  },
  {
   "cell_type": "markdown",
   "id": "8e68d14a",
   "metadata": {},
   "source": [
    "### 3. Use stats.chi2_contingency"
   ]
  },
  {
   "cell_type": "code",
   "execution_count": 13,
   "id": "7cacaa13",
   "metadata": {},
   "outputs": [],
   "source": [
    "# use stats.chi2_contingency test \n",
    "\n",
    "chi2, p, degf, expected=stats.chi2_contingency(observed)\n"
   ]
  },
  {
   "cell_type": "code",
   "execution_count": 16,
   "id": "79e2f819",
   "metadata": {},
   "outputs": [
    {
     "name": "stdout",
     "output_type": "stream",
     "text": [
      "Observed\n",
      "[[ 51  12]\n",
      " [828 133]\n",
      " [354  92]]\n",
      "\n",
      "Expected\n",
      "[[ 52  10]\n",
      " [806 154]\n",
      " [374  71]]\n",
      "\n",
      "----\n",
      "chi^2 = 10.7960\n",
      "p     = 0.0045\n"
     ]
    }
   ],
   "source": [
    "#output values\n",
    "print('Observed')\n",
    "print(observed.values)\n",
    "print('\\nExpected')\n",
    "print(expected.astype(int))\n",
    "print('\\n----')\n",
    "print(f'chi^2 = {chi2:.4f}')\n",
    "print(f'p     = {p:.4f}')"
   ]
  },
  {
   "cell_type": "code",
   "execution_count": null,
   "id": "36b69f86",
   "metadata": {},
   "outputs": [],
   "source": [
    "if p < alpha:\n",
    "    print(\"We reject the hypothesis\")\n",
    "else:\n",
    "    print(\"We fail to reject the null hypothesis\")"
   ]
  },
  {
   "cell_type": "markdown",
   "id": "aa0ade2b",
   "metadata": {},
   "source": [
    "## Correlation Extra FYI"
   ]
  },
  {
   "cell_type": "markdown",
   "id": "6a7246f3",
   "metadata": {},
   "source": [
    "> Expected values all need to be greater than 5, we normally don't run into this issue\n",
    "\n",
    "> If not greater than 5, use fisher's exact test"
   ]
  },
  {
   "cell_type": "code",
   "execution_count": null,
   "id": "51d50fcb",
   "metadata": {},
   "outputs": [],
   "source": []
  }
 ],
 "metadata": {
  "kernelspec": {
   "display_name": "Python 3.9.12 ('base')",
   "language": "python",
   "name": "python3"
  },
  "language_info": {
   "codemirror_mode": {
    "name": "ipython",
    "version": 3
   },
   "file_extension": ".py",
   "mimetype": "text/x-python",
   "name": "python",
   "nbconvert_exporter": "python",
   "pygments_lexer": "ipython3",
   "version": "3.9.12"
  },
  "vscode": {
   "interpreter": {
    "hash": "38cca0c38332a56087b24af0bc80247f4fced29cb4f7f437d91dc159adec9c4e"
   }
  }
 },
 "nbformat": 4,
 "nbformat_minor": 5
}
