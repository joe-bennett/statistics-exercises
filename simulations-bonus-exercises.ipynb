{
 "cells": [
  {
   "cell_type": "markdown",
   "metadata": {},
   "source": [
    "\n",
    "Let's use what we've learned to play a mage duel!\n",
    "\n",
    "Imagine your wizard has 6d4 health points and you have spells that do 6d4 damage. \"6d4\" means rolling six 4-sided dice and summing the result.\n",
    "\n",
    "Your opposing mage has 4d6 health points and spells that do 4d6. \"4d6\" means rolling four six-sided dice and summing the result.\n",
    "\n",
    "Exercises\n",
    "Simulate mage duels to answer who is the more powerful mage?\n",
    "\n",
    "Before running simulations, do you have a hypothesis of which mage will win? Do you have a hunch? Write it down. This is your first exercise.\n",
    "Simulate 10 mage duels. Is there a clear winner? Run that 10 duel simulation again. Was the answer similar?\n",
    "Do the results change much at 100 duels?\n",
    "Now, simulate 10,000 mage duels. Is there a clear winner?"
   ]
  },
  {
   "cell_type": "code",
   "execution_count": 18,
   "metadata": {},
   "outputs": [
    {
     "data": {
      "text/plain": [
       "1.0"
      ]
     },
     "execution_count": 18,
     "metadata": {},
     "output_type": "execute_result"
    }
   ],
   "source": [
    "\n",
    "import numpy as np\n",
    "import pandas as pd\n",
    "\n",
    "my_mage=np.random.choice(range(1,5),(10,6))\n",
    "my_mage_total=my_mage.sum(axis=1)\n",
    "my_mage_total \n",
    "\n",
    "other_mage=np.random.choice(range(1,7),(10,4))\n",
    "other_mage_total=other_mage.sum(axis=1)\n",
    "other_mage_total\n",
    "\n",
    "i_win= my_mage_total> other_mage_total\n",
    "winner=i_win.mean()\n",
    "\n",
    "\n",
    "i_lose=my_mage_total<other_mage_total\n",
    "loser=i_lose.mean()\n",
    "\n",
    "tie= my_mage_total== other_mage_total\n",
    "we_tied=tie.mean()\n",
    "\n",
    "winner+loser+we_tied\n"
   ]
  },
  {
   "cell_type": "code",
   "execution_count": 19,
   "metadata": {},
   "outputs": [
    {
     "data": {
      "text/plain": [
       "0.6"
      ]
     },
     "execution_count": 19,
     "metadata": {},
     "output_type": "execute_result"
    }
   ],
   "source": [
    "winner"
   ]
  },
  {
   "cell_type": "code",
   "execution_count": 20,
   "metadata": {},
   "outputs": [
    {
     "data": {
      "text/plain": [
       "0.2"
      ]
     },
     "execution_count": 20,
     "metadata": {},
     "output_type": "execute_result"
    }
   ],
   "source": [
    "loser"
   ]
  },
  {
   "cell_type": "code",
   "execution_count": 21,
   "metadata": {},
   "outputs": [
    {
     "data": {
      "text/plain": [
       "0.2"
      ]
     },
     "execution_count": 21,
     "metadata": {},
     "output_type": "execute_result"
    }
   ],
   "source": [
    "we_tied"
   ]
  },
  {
   "cell_type": "code",
   "execution_count": null,
   "metadata": {},
   "outputs": [],
   "source": []
  }
 ],
 "metadata": {
  "kernelspec": {
   "display_name": "Python 3.9.12 ('base')",
   "language": "python",
   "name": "python3"
  },
  "language_info": {
   "codemirror_mode": {
    "name": "ipython",
    "version": 3
   },
   "file_extension": ".py",
   "mimetype": "text/x-python",
   "name": "python",
   "nbconvert_exporter": "python",
   "pygments_lexer": "ipython3",
   "version": "3.9.12"
  },
  "orig_nbformat": 4,
  "vscode": {
   "interpreter": {
    "hash": "38cca0c38332a56087b24af0bc80247f4fced29cb4f7f437d91dc159adec9c4e"
   }
  }
 },
 "nbformat": 4,
 "nbformat_minor": 2
}
